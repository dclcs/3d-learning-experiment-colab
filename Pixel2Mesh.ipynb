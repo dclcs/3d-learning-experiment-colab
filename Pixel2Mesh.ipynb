{
  "nbformat": 4,
  "nbformat_minor": 0,
  "metadata": {
    "colab": {
      "name": "Pixel2Mesh",
      "provenance": [],
      "collapsed_sections": [],
      "toc_visible": true,
      "include_colab_link": true
    },
    "kernelspec": {
      "name": "python3",
      "display_name": "Python 3"
    },
    "accelerator": "GPU"
  },
  "cells": [
    {
      "cell_type": "markdown",
      "metadata": {
        "id": "view-in-github",
        "colab_type": "text"
      },
      "source": [
        "<a href=\"https://colab.research.google.com/github/dclcs/3d-learning-experiment-colab/blob/main/Pixel2Mesh.ipynb\" target=\"_parent\"><img src=\"https://colab.research.google.com/assets/colab-badge.svg\" alt=\"Open In Colab\"/></a>"
      ]
    },
    {
      "cell_type": "markdown",
      "metadata": {
        "id": "eFFj7dOBealN"
      },
      "source": [
        "# Pixel2Mesh\n",
        "Wang, N., Zhang, Y., Li, Z., Fu, Y., Liu, W., & Jiang, Y. G. (2018). Pixel2mesh: Generating 3d mesh models from single rgb images. In Proceedings of the European Conference on Computer Vision (ECCV) (pp. 52-67)."
      ]
    },
    {
      "cell_type": "markdown",
      "metadata": {
        "id": "zONvFgQOvDB8"
      },
      "source": [
        "Official implementation can be found [here](https://github.com/nywang16/Pixel2Mesh)\n",
        "\n",
        "Colab version implemented by [Mathias Gatti](https://mathigatti.com)"
      ]
    },
    {
      "cell_type": "code",
      "metadata": {
        "id": "k63eMMaEebRP",
        "outputId": "a081f26e-72f0-4f4f-dff6-601d1c1eef4b",
        "colab": {
          "base_uri": "https://localhost:8080/"
        }
      },
      "source": [
        "!git clone https://github.com/mathigatti/Pixel2Mesh.git"
      ],
      "execution_count": 1,
      "outputs": [
        {
          "output_type": "stream",
          "text": [
            "Cloning into 'Pixel2Mesh'...\n",
            "remote: Enumerating objects: 7, done.\u001b[K\n",
            "remote: Counting objects: 100% (7/7), done.\u001b[K\n",
            "remote: Compressing objects: 100% (7/7), done.\u001b[K\n",
            "remote: Total 139 (delta 1), reused 0 (delta 0), pack-reused 132\u001b[K\n",
            "Receiving objects: 100% (139/139), 5.80 MiB | 22.40 MiB/s, done.\n",
            "Resolving deltas: 100% (29/29), done.\n"
          ],
          "name": "stdout"
        }
      ]
    },
    {
      "cell_type": "code",
      "metadata": {
        "id": "BH71t4P8fSDS",
        "outputId": "01bd6ed8-045c-4001-e97c-db6f56cea24d",
        "colab": {
          "base_uri": "https://localhost:8080/"
        }
      },
      "source": [
        "!wget --load-cookies /tmp/cookies.txt \"https://docs.google.com/uc?export=download&confirm=$(wget --quiet --save-cookies /tmp/cookies.txt --keep-session-cookies --no-check-certificate 'https://docs.google.com/uc?export=download&id=1gD-dk-XrAa5mfrgdZSunjaS6pUUWsZgU' -O- | sed -rn 's/.*confirm=([0-9A-Za-z_]+).*/\\1\\n/p')&id=1gD-dk-XrAa5mfrgdZSunjaS6pUUWsZgU\" -O checkpoints.zip && rm -rf /tmp/cookies.txt\n",
        "!unzip checkpoints.zip -d /content/Pixel2Mesh/Data"
      ],
      "execution_count": 2,
      "outputs": [
        {
          "output_type": "stream",
          "text": [
            "--2020-11-08 05:59:44--  https://docs.google.com/uc?export=download&confirm=pKXQ&id=1gD-dk-XrAa5mfrgdZSunjaS6pUUWsZgU\n",
            "Resolving docs.google.com (docs.google.com)... 142.250.73.238, 2607:f8b0:4004:82a::200e\n",
            "Connecting to docs.google.com (docs.google.com)|142.250.73.238|:443... connected.\n",
            "HTTP request sent, awaiting response... 302 Moved Temporarily\n",
            "Location: https://doc-14-0c-docs.googleusercontent.com/docs/securesc/4lp4ul678vkpolg6nlorvpv0o6muqj9e/7k5flrbadqesqb64f9rinhcpaf9qlg0r/1604815125000/09894763150769114285/08798899530909120592Z/1gD-dk-XrAa5mfrgdZSunjaS6pUUWsZgU?e=download [following]\n",
            "--2020-11-08 05:59:45--  https://doc-14-0c-docs.googleusercontent.com/docs/securesc/4lp4ul678vkpolg6nlorvpv0o6muqj9e/7k5flrbadqesqb64f9rinhcpaf9qlg0r/1604815125000/09894763150769114285/08798899530909120592Z/1gD-dk-XrAa5mfrgdZSunjaS6pUUWsZgU?e=download\n",
            "Resolving doc-14-0c-docs.googleusercontent.com (doc-14-0c-docs.googleusercontent.com)... 142.250.73.225, 2607:f8b0:4004:82a::2001\n",
            "Connecting to doc-14-0c-docs.googleusercontent.com (doc-14-0c-docs.googleusercontent.com)|142.250.73.225|:443... connected.\n",
            "HTTP request sent, awaiting response... 302 Found\n",
            "Location: https://docs.google.com/nonceSigner?nonce=i556kfv35u864&continue=https://doc-14-0c-docs.googleusercontent.com/docs/securesc/4lp4ul678vkpolg6nlorvpv0o6muqj9e/7k5flrbadqesqb64f9rinhcpaf9qlg0r/1604815125000/09894763150769114285/08798899530909120592Z/1gD-dk-XrAa5mfrgdZSunjaS6pUUWsZgU?e%3Ddownload&hash=fjab2ahj26rur6ks51kql0jokpdfgvsu [following]\n",
            "--2020-11-08 05:59:45--  https://docs.google.com/nonceSigner?nonce=i556kfv35u864&continue=https://doc-14-0c-docs.googleusercontent.com/docs/securesc/4lp4ul678vkpolg6nlorvpv0o6muqj9e/7k5flrbadqesqb64f9rinhcpaf9qlg0r/1604815125000/09894763150769114285/08798899530909120592Z/1gD-dk-XrAa5mfrgdZSunjaS6pUUWsZgU?e%3Ddownload&hash=fjab2ahj26rur6ks51kql0jokpdfgvsu\n",
            "Connecting to docs.google.com (docs.google.com)|142.250.73.238|:443... connected.\n",
            "HTTP request sent, awaiting response... 302 Found\n",
            "Location: https://doc-14-0c-docs.googleusercontent.com/docs/securesc/4lp4ul678vkpolg6nlorvpv0o6muqj9e/7k5flrbadqesqb64f9rinhcpaf9qlg0r/1604815125000/09894763150769114285/08798899530909120592Z/1gD-dk-XrAa5mfrgdZSunjaS6pUUWsZgU?e=download&nonce=i556kfv35u864&user=08798899530909120592Z&hash=c3o0mblkqmuqlsgr93v7u0fahoj48cs1 [following]\n",
            "--2020-11-08 05:59:45--  https://doc-14-0c-docs.googleusercontent.com/docs/securesc/4lp4ul678vkpolg6nlorvpv0o6muqj9e/7k5flrbadqesqb64f9rinhcpaf9qlg0r/1604815125000/09894763150769114285/08798899530909120592Z/1gD-dk-XrAa5mfrgdZSunjaS6pUUWsZgU?e=download&nonce=i556kfv35u864&user=08798899530909120592Z&hash=c3o0mblkqmuqlsgr93v7u0fahoj48cs1\n",
            "Connecting to doc-14-0c-docs.googleusercontent.com (doc-14-0c-docs.googleusercontent.com)|142.250.73.225|:443... connected.\n",
            "HTTP request sent, awaiting response... 200 OK\n",
            "Length: unspecified [application/zip]\n",
            "Saving to: ‘checkpoints.zip’\n",
            "\n",
            "checkpoints.zip         [  <=>               ]  68.21M   251MB/s    in 0.3s    \n",
            "\n",
            "2020-11-08 05:59:45 (251 MB/s) - ‘checkpoints.zip’ saved [71524202]\n",
            "\n",
            "Archive:  checkpoints.zip\n",
            "   creating: /content/Pixel2Mesh/Data/checkpoint/\n",
            "  inflating: /content/Pixel2Mesh/Data/checkpoint/gcn.ckpt.index  \n",
            "  inflating: /content/Pixel2Mesh/Data/checkpoint/gcn.ckpt.data-00000-of-00001  \n",
            "  inflating: /content/Pixel2Mesh/Data/checkpoint/checkpoint  \n",
            "  inflating: /content/Pixel2Mesh/Data/checkpoint/gcn.ckpt.meta  \n"
          ],
          "name": "stdout"
        }
      ]
    },
    {
      "cell_type": "markdown",
      "metadata": {
        "id": "4glpdf4Wfu2m"
      },
      "source": [
        "## Installing CUDA 8"
      ]
    },
    {
      "cell_type": "code",
      "metadata": {
        "id": "zrtjn54revAm"
      },
      "source": [
        "!apt-get --purge remove cuda nvidia* libnvidia-*\n",
        "!dpkg -l | grep cuda- | awk '{print $2}' | xargs -n1 dpkg --purge\n",
        "!apt-get remove cuda-*\n",
        "!apt autoremove\n",
        "!apt-get update"
      ],
      "execution_count": null,
      "outputs": []
    },
    {
      "cell_type": "code",
      "metadata": {
        "id": "c1CaM9wYfb_N",
        "outputId": "31a8c2d9-e1f9-4cc2-a9f0-ad76c4d479a0",
        "colab": {
          "base_uri": "https://localhost:8080/"
        }
      },
      "source": [
        "!wget https://developer.nvidia.com/compute/cuda/8.0/Prod2/local_installers/cuda-repo-ubuntu1604-8-0-local-ga2_8.0.61-1_amd64-deb\n",
        "!dpkg -i cuda-repo-ubuntu1604-8-0-local-ga2_8.0.61-1_amd64-deb"
      ],
      "execution_count": 4,
      "outputs": [
        {
          "output_type": "stream",
          "text": [
            "--2020-11-08 06:02:22--  https://developer.nvidia.com/compute/cuda/8.0/Prod2/local_installers/cuda-repo-ubuntu1604-8-0-local-ga2_8.0.61-1_amd64-deb\n",
            "Resolving developer.nvidia.com (developer.nvidia.com)... 152.199.0.24\n",
            "Connecting to developer.nvidia.com (developer.nvidia.com)|152.199.0.24|:443... connected.\n",
            "HTTP request sent, awaiting response... 302 Found\n",
            "Location: https://developer.download.nvidia.com/compute/cuda/8.0/secure/Prod2/local_installers/cuda-repo-ubuntu1604-8-0-local-ga2_8.0.61-1_amd64.deb?QFeM5aYBAaU6_3viywL5i6qJc2-eAr5uJgKY7y-K3zA68Jj_X0F-u1TPiJFFE2zLxBxSImdu3H-FBW3wZ_SpKslIVFPnSig21eN_6azuA7CEZdZD9_Gw99j58dLEfQS7m95OU7ilh1JqCAh8Gvf3UaKnwjILMI09uRGzj_ZrlPwBAgjO-spfijcbJcDZMoKpx3AOkRO02vDtfy7jfUZ7BIIwJw [following]\n",
            "--2020-11-08 06:02:23--  https://developer.download.nvidia.com/compute/cuda/8.0/secure/Prod2/local_installers/cuda-repo-ubuntu1604-8-0-local-ga2_8.0.61-1_amd64.deb?QFeM5aYBAaU6_3viywL5i6qJc2-eAr5uJgKY7y-K3zA68Jj_X0F-u1TPiJFFE2zLxBxSImdu3H-FBW3wZ_SpKslIVFPnSig21eN_6azuA7CEZdZD9_Gw99j58dLEfQS7m95OU7ilh1JqCAh8Gvf3UaKnwjILMI09uRGzj_ZrlPwBAgjO-spfijcbJcDZMoKpx3AOkRO02vDtfy7jfUZ7BIIwJw\n",
            "Resolving developer.download.nvidia.com (developer.download.nvidia.com)... 152.195.19.142\n",
            "Connecting to developer.download.nvidia.com (developer.download.nvidia.com)|152.195.19.142|:443... connected.\n",
            "HTTP request sent, awaiting response... 200 OK\n",
            "Length: 1913589814 (1.8G) [application/x-deb]\n",
            "Saving to: ‘cuda-repo-ubuntu1604-8-0-local-ga2_8.0.61-1_amd64-deb’\n",
            "\n",
            "cuda-repo-ubuntu160 100%[===================>]   1.78G  36.3MB/s    in 14s     \n",
            "\n",
            "2020-11-08 06:02:37 (129 MB/s) - ‘cuda-repo-ubuntu1604-8-0-local-ga2_8.0.61-1_amd64-deb’ saved [1913589814/1913589814]\n",
            "\n",
            "Selecting previously unselected package cuda-repo-ubuntu1604-8-0-local-ga2.\n",
            "(Reading database ... 122390 files and directories currently installed.)\n",
            "Preparing to unpack cuda-repo-ubuntu1604-8-0-local-ga2_8.0.61-1_amd64-deb ...\n",
            "Unpacking cuda-repo-ubuntu1604-8-0-local-ga2 (8.0.61-1) ...\n",
            "Setting up cuda-repo-ubuntu1604-8-0-local-ga2 (8.0.61-1) ...\n",
            "Warning: The postinst maintainerscript of the package cuda-repo-ubuntu1604-8-0-local-ga2\n",
            "Warning: seems to use apt-key (provided by apt) without depending on gnupg or gnupg2.\n",
            "Warning: This will BREAK in the future and should be fixed by the package maintainer(s).\n",
            "Note: Check first if apt-key functionality is needed at all - it probably isn't!\n",
            "Warning: apt-key should not be used in scripts (called from postinst maintainerscript of the package cuda-repo-ubuntu1604-8-0-local-ga2)\n",
            "OK\n"
          ],
          "name": "stdout"
        }
      ]
    },
    {
      "cell_type": "code",
      "metadata": {
        "id": "VCc07tlahu4M",
        "outputId": "a70a5d95-8a78-4c9b-9819-42a0649355eb",
        "colab": {
          "base_uri": "https://localhost:8080/"
        }
      },
      "source": [
        "!find / -name 7fa2af80.pub"
      ],
      "execution_count": 5,
      "outputs": [
        {
          "output_type": "stream",
          "text": [
            "^C\n"
          ],
          "name": "stdout"
        }
      ]
    },
    {
      "cell_type": "code",
      "metadata": {
        "id": "0FOVU2pXgRoq",
        "outputId": "bbfdd6e0-aec1-4d4f-bb39-72be7f3f9c9c",
        "colab": {
          "base_uri": "https://localhost:8080/"
        }
      },
      "source": [
        "!apt-key add /var/cuda-repo-8-0-local-ga2/7fa2af80.pub"
      ],
      "execution_count": 6,
      "outputs": [
        {
          "output_type": "stream",
          "text": [
            "OK\n"
          ],
          "name": "stdout"
        }
      ]
    },
    {
      "cell_type": "code",
      "metadata": {
        "id": "JaGNU2tlfyoF"
      },
      "source": [
        "!apt-get update\n",
        "!apt-get install cuda-8-0"
      ],
      "execution_count": null,
      "outputs": []
    },
    {
      "cell_type": "code",
      "metadata": {
        "id": "ikukjS4XiDCA",
        "outputId": "b596d117-3b34-4617-ca79-3ca4d0528f67",
        "colab": {
          "base_uri": "https://localhost:8080/"
        }
      },
      "source": [
        "!nvcc --version"
      ],
      "execution_count": 9,
      "outputs": [
        {
          "output_type": "stream",
          "text": [
            "nvcc: NVIDIA (R) Cuda compiler driver\n",
            "Copyright (c) 2005-2016 NVIDIA Corporation\n",
            "Built on Tue_Jan_10_13:22:03_CST_2017\n",
            "Cuda compilation tools, release 8.0, V8.0.61\n"
          ],
          "name": "stdout"
        }
      ]
    },
    {
      "cell_type": "markdown",
      "metadata": {
        "id": "CJ4bzMbOgY1A"
      },
      "source": [
        "## Installing python libraries"
      ]
    },
    {
      "cell_type": "code",
      "metadata": {
        "id": "Smgq3UTVganc"
      },
      "source": [
        "!python2 -m pip install tensorflow==1.3.0\n",
        "!python2 -m pip install tflearn==0.3.2"
      ],
      "execution_count": null,
      "outputs": []
    },
    {
      "cell_type": "markdown",
      "metadata": {
        "id": "8lVMlvq3fcH8"
      },
      "source": [
        "## Running it"
      ]
    },
    {
      "cell_type": "code",
      "metadata": {
        "id": "xXxbMrF4fdZs",
        "outputId": "d682988a-5254-4edb-81d9-7ebef9da8b38",
        "colab": {
          "base_uri": "https://localhost:8080/"
        }
      },
      "source": [
        "%cd /content/Pixel2Mesh\n",
        "!python2 demo.py --image Data/examples/plane.png"
      ],
      "execution_count": 11,
      "outputs": [
        {
          "output_type": "stream",
          "text": [
            "/content/Pixel2Mesh\n",
            "2020-11-08 06:08:11.651172: W tensorflow/core/platform/cpu_feature_guard.cc:45] The TensorFlow library wasn't compiled to use SSE4.1 instructions, but these are available on your machine and could speed up CPU computations.\n",
            "2020-11-08 06:08:11.651209: W tensorflow/core/platform/cpu_feature_guard.cc:45] The TensorFlow library wasn't compiled to use SSE4.2 instructions, but these are available on your machine and could speed up CPU computations.\n",
            "2020-11-08 06:08:11.651219: W tensorflow/core/platform/cpu_feature_guard.cc:45] The TensorFlow library wasn't compiled to use AVX instructions, but these are available on your machine and could speed up CPU computations.\n",
            "2020-11-08 06:08:11.651227: W tensorflow/core/platform/cpu_feature_guard.cc:45] The TensorFlow library wasn't compiled to use AVX2 instructions, but these are available on your machine and could speed up CPU computations.\n",
            "2020-11-08 06:08:11.651235: W tensorflow/core/platform/cpu_feature_guard.cc:45] The TensorFlow library wasn't compiled to use FMA instructions, but these are available on your machine and could speed up CPU computations.\n",
            "Model restored from file: Data/checkpoint/gcn.ckpt\n",
            "/usr/local/lib/python2.7/dist-packages/skimage/transform/_warps.py:105: UserWarning: The default mode, 'constant', will be changed to 'reflect' in skimage 0.15.\n",
            "  warn(\"The default mode, 'constant', will be changed to 'reflect' in \"\n",
            "/usr/local/lib/python2.7/dist-packages/skimage/transform/_warps.py:110: UserWarning: Anti-aliasing will be enabled by default in skimage 0.15 to avoid aliasing artifacts when down-sampling images.\n",
            "  warn(\"Anti-aliasing will be enabled by default in skimage 0.15 to \"\n",
            "Saved to Data/examples/plane.obj\n"
          ],
          "name": "stdout"
        }
      ]
    },
    {
      "cell_type": "code",
      "metadata": {
        "id": "YHpuO9KfeQly"
      },
      "source": [
        "from google.colab import drive\n",
        "drive.mount('/content/drive')"
      ],
      "execution_count": null,
      "outputs": []
    },
    {
      "cell_type": "markdown",
      "metadata": {
        "id": "S6m7Sit9eXVQ"
      },
      "source": [
        "# Pixel2Mesh++\n",
        "Wen, C., Zhang, Y., Li, Z., & Fu, Y. (2019). Pixel2mesh++: Multi-view 3d mesh generation via deformation. In Proceedings of the IEEE International Conference on Computer Vision (pp. 1042-1051)."
      ]
    },
    {
      "cell_type": "code",
      "metadata": {
        "id": "XQbJSJ9KC8EU"
      },
      "source": [
        "!git clone https://github.com/walsvid/Pixel2MeshPlusPlus.git"
      ],
      "execution_count": null,
      "outputs": []
    },
    {
      "cell_type": "code",
      "metadata": {
        "id": "cQNJtEaKPuGQ"
      },
      "source": [
        "!wget --load-cookies /tmp/cookies.txt \"https://docs.google.com/uc?export=download&confirm=$(wget --quiet --save-cookies /tmp/cookies.txt --keep-session-cookies --no-check-certificate 'https://docs.google.com/uc?export=download&id=1qYqH-5d7l5p8nXd_o_b32RUOdHtTJKtK' -O- | sed -rn 's/.*confirm=([0-9A-Za-z_]+).*/\\1\\n/p')&id=1qYqH-5d7l5p8nXd_o_b32RUOdHtTJKtK\" -O models.tar.gz && rm -rf /tmp/cookies.txt\n",
        "!tar xvzf models.tar.gz -C /content/Pixel2MeshPlusPlus\n",
        "!rm -rf /content/Pixel2MeshPlusPlus/results\n",
        "!mv /content/Pixel2MeshPlusPlus/p2mpp_models /content/Pixel2MeshPlusPlus/results"
      ],
      "execution_count": null,
      "outputs": []
    },
    {
      "cell_type": "markdown",
      "metadata": {
        "id": "FnzR3cagfEA5"
      },
      "source": [
        "## Installing CUDA 9"
      ]
    },
    {
      "cell_type": "code",
      "metadata": {
        "id": "O-Nukj-IW1SQ"
      },
      "source": [
        "!apt-get --purge remove cuda nvidia* libnvidia-*\n",
        "!dpkg -l | grep cuda- | awk '{print $2}' | xargs -n1 dpkg --purge\n",
        "!apt-get remove cuda-*\n",
        "!apt autoremove\n",
        "!apt-get update"
      ],
      "execution_count": null,
      "outputs": []
    },
    {
      "cell_type": "code",
      "metadata": {
        "id": "4_4MDpwMTHgP"
      },
      "source": [
        "!wget https://developer.nvidia.com/compute/cuda/9.0/Prod/local_installers/cuda-repo-ubuntu1704-9-0-local_9.0.176-1_amd64-deb\n",
        "!dpkg -i /content/cuda-repo-ubuntu1704-9-0-local_9.0.176-1_amd64-deb\n",
        "!apt-key add /var/cuda-repo-9-0-local/7fa2af80.pub"
      ],
      "execution_count": null,
      "outputs": []
    },
    {
      "cell_type": "code",
      "metadata": {
        "id": "lye_9V2uVnOD"
      },
      "source": [
        "!apt-get update\n",
        "!apt-get install cuda-9-0"
      ],
      "execution_count": null,
      "outputs": []
    },
    {
      "cell_type": "code",
      "metadata": {
        "id": "jrgCQsOjWCff"
      },
      "source": [
        "# Checking everything is fine\n",
        "!nvcc --version"
      ],
      "execution_count": null,
      "outputs": []
    },
    {
      "cell_type": "markdown",
      "metadata": {
        "id": "xsTwbBT2e4RY"
      },
      "source": [
        "## Python libraries"
      ]
    },
    {
      "cell_type": "code",
      "metadata": {
        "id": "zlQwtNHcdMGy",
        "outputId": "f7e4aa7f-e82c-467c-f88a-773f5f734cc2",
        "colab": {
          "base_uri": "https://localhost:8080/",
          "height": 668
        }
      },
      "source": [
        "!pip install tensorflow==1.12.0\n",
        "!pip install tflearn==0.3.2"
      ],
      "execution_count": null,
      "outputs": [
        {
          "output_type": "stream",
          "text": [
            "Collecting tensorflow==1.12.0\n",
            "\u001b[?25l  Downloading https://files.pythonhosted.org/packages/22/cc/ca70b78087015d21c5f3f93694107f34ebccb3be9624385a911d4b52ecef/tensorflow-1.12.0-cp36-cp36m-manylinux1_x86_64.whl (83.1MB)\n",
            "\u001b[K     |████████████████████████████████| 83.1MB 40kB/s \n",
            "\u001b[?25hRequirement already satisfied: absl-py>=0.1.6 in /usr/local/lib/python3.6/dist-packages (from tensorflow==1.12.0) (0.9.0)\n",
            "Requirement already satisfied: gast>=0.2.0 in /usr/local/lib/python3.6/dist-packages (from tensorflow==1.12.0) (0.3.3)\n",
            "Requirement already satisfied: keras-preprocessing>=1.0.5 in /usr/local/lib/python3.6/dist-packages (from tensorflow==1.12.0) (1.1.2)\n",
            "Requirement already satisfied: astor>=0.6.0 in /usr/local/lib/python3.6/dist-packages (from tensorflow==1.12.0) (0.8.1)\n",
            "Requirement already satisfied: grpcio>=1.8.6 in /usr/local/lib/python3.6/dist-packages (from tensorflow==1.12.0) (1.30.0)\n",
            "Requirement already satisfied: numpy>=1.13.3 in /usr/local/lib/python3.6/dist-packages (from tensorflow==1.12.0) (1.18.5)\n",
            "Requirement already satisfied: wheel>=0.26 in /usr/local/lib/python3.6/dist-packages (from tensorflow==1.12.0) (0.34.2)\n",
            "Requirement already satisfied: six>=1.10.0 in /usr/local/lib/python3.6/dist-packages (from tensorflow==1.12.0) (1.12.0)\n",
            "Requirement already satisfied: protobuf>=3.6.1 in /usr/local/lib/python3.6/dist-packages (from tensorflow==1.12.0) (3.10.0)\n",
            "Requirement already satisfied: tensorboard<1.13.0,>=1.12.0 in /usr/local/lib/python3.6/dist-packages (from tensorflow==1.12.0) (1.12.2)\n",
            "Requirement already satisfied: termcolor>=1.1.0 in /usr/local/lib/python3.6/dist-packages (from tensorflow==1.12.0) (1.1.0)\n",
            "Requirement already satisfied: keras-applications>=1.0.6 in /usr/local/lib/python3.6/dist-packages (from tensorflow==1.12.0) (1.0.8)\n",
            "Requirement already satisfied: setuptools in /usr/local/lib/python3.6/dist-packages (from protobuf>=3.6.1->tensorflow==1.12.0) (49.1.0)\n",
            "Requirement already satisfied: markdown>=2.6.8 in /usr/local/lib/python3.6/dist-packages (from tensorboard<1.13.0,>=1.12.0->tensorflow==1.12.0) (3.2.2)\n",
            "Requirement already satisfied: werkzeug>=0.11.10 in /usr/local/lib/python3.6/dist-packages (from tensorboard<1.13.0,>=1.12.0->tensorflow==1.12.0) (1.0.1)\n",
            "Requirement already satisfied: h5py in /usr/local/lib/python3.6/dist-packages (from keras-applications>=1.0.6->tensorflow==1.12.0) (2.10.0)\n",
            "Requirement already satisfied: importlib-metadata; python_version < \"3.8\" in /usr/local/lib/python3.6/dist-packages (from markdown>=2.6.8->tensorboard<1.13.0,>=1.12.0->tensorflow==1.12.0) (1.7.0)\n",
            "Requirement already satisfied: zipp>=0.5 in /usr/local/lib/python3.6/dist-packages (from importlib-metadata; python_version < \"3.8\"->markdown>=2.6.8->tensorboard<1.13.0,>=1.12.0->tensorflow==1.12.0) (3.1.0)\n",
            "Installing collected packages: tensorflow\n",
            "  Found existing installation: tensorflow 1.15.2\n",
            "    Uninstalling tensorflow-1.15.2:\n",
            "      Successfully uninstalled tensorflow-1.15.2\n",
            "Successfully installed tensorflow-2.2.0\n"
          ],
          "name": "stdout"
        },
        {
          "output_type": "display_data",
          "data": {
            "application/vnd.colab-display-data+json": {
              "pip_warning": {
                "packages": [
                  "tensorflow"
                ]
              }
            }
          },
          "metadata": {
            "tags": []
          }
        },
        {
          "output_type": "stream",
          "text": [
            "Requirement already satisfied: tflearn==0.3.2 in /tensorflow-1.15.2/python3.6 (0.3.2)\n",
            "Requirement already satisfied: numpy in /usr/local/lib/python3.6/dist-packages (from tflearn==0.3.2) (1.18.5)\n",
            "Requirement already satisfied: six in /usr/local/lib/python3.6/dist-packages (from tflearn==0.3.2) (1.12.0)\n",
            "Requirement already satisfied: Pillow in /usr/local/lib/python3.6/dist-packages (from tflearn==0.3.2) (7.0.0)\n"
          ],
          "name": "stdout"
        }
      ]
    },
    {
      "cell_type": "code",
      "metadata": {
        "id": "QFwuJSgjeyap",
        "outputId": "4c950349-6dc0-4bed-e71e-a86f085dbd16",
        "colab": {
          "base_uri": "https://localhost:8080/",
          "height": 307
        }
      },
      "source": [
        "%tensorflow_version 1.x\n",
        "import tensorflow as tf\n",
        "tf.sysconfig.get_link_flags()"
      ],
      "execution_count": null,
      "outputs": [
        {
          "output_type": "stream",
          "text": [
            "TensorFlow 1.x selected.\n"
          ],
          "name": "stdout"
        },
        {
          "output_type": "stream",
          "text": [
            "/usr/local/lib/python3.6/dist-packages/tensorflow/python/framework/dtypes.py:523: FutureWarning: Passing (type, 1) or '1type' as a synonym of type is deprecated; in a future version of numpy, it will be understood as (type, (1,)) / '(1,)type'.\n",
            "  _np_qint8 = np.dtype([(\"qint8\", np.int8, 1)])\n",
            "/usr/local/lib/python3.6/dist-packages/tensorflow/python/framework/dtypes.py:524: FutureWarning: Passing (type, 1) or '1type' as a synonym of type is deprecated; in a future version of numpy, it will be understood as (type, (1,)) / '(1,)type'.\n",
            "  _np_quint8 = np.dtype([(\"quint8\", np.uint8, 1)])\n",
            "/usr/local/lib/python3.6/dist-packages/tensorflow/python/framework/dtypes.py:525: FutureWarning: Passing (type, 1) or '1type' as a synonym of type is deprecated; in a future version of numpy, it will be understood as (type, (1,)) / '(1,)type'.\n",
            "  _np_qint16 = np.dtype([(\"qint16\", np.int16, 1)])\n",
            "/usr/local/lib/python3.6/dist-packages/tensorflow/python/framework/dtypes.py:526: FutureWarning: Passing (type, 1) or '1type' as a synonym of type is deprecated; in a future version of numpy, it will be understood as (type, (1,)) / '(1,)type'.\n",
            "  _np_quint16 = np.dtype([(\"quint16\", np.uint16, 1)])\n",
            "/usr/local/lib/python3.6/dist-packages/tensorflow/python/framework/dtypes.py:527: FutureWarning: Passing (type, 1) or '1type' as a synonym of type is deprecated; in a future version of numpy, it will be understood as (type, (1,)) / '(1,)type'.\n",
            "  _np_qint32 = np.dtype([(\"qint32\", np.int32, 1)])\n",
            "/usr/local/lib/python3.6/dist-packages/tensorflow/python/framework/dtypes.py:532: FutureWarning: Passing (type, 1) or '1type' as a synonym of type is deprecated; in a future version of numpy, it will be understood as (type, (1,)) / '(1,)type'.\n",
            "  np_resource = np.dtype([(\"resource\", np.ubyte, 1)])\n"
          ],
          "name": "stderr"
        },
        {
          "output_type": "execute_result",
          "data": {
            "text/plain": [
              "['-L/usr/local/lib/python3.6/dist-packages/tensorflow',\n",
              " '-ltensorflow_framework']"
            ]
          },
          "metadata": {
            "tags": []
          },
          "execution_count": 1
        }
      ]
    },
    {
      "cell_type": "markdown",
      "metadata": {
        "id": "gOlJUiooe8MO"
      },
      "source": [
        "## Running it"
      ]
    },
    {
      "cell_type": "code",
      "metadata": {
        "id": "lp5kYle9Wk73",
        "outputId": "946b0a59-1f84-468e-f425-962b20a12c11",
        "colab": {
          "base_uri": "https://localhost:8080/",
          "height": 559
        }
      },
      "source": [
        "%tensorflow_version 1.x\n",
        "%cd /content/Pixel2MeshPlusPlus/\n",
        "!python demo.py"
      ],
      "execution_count": null,
      "outputs": [
        {
          "output_type": "stream",
          "text": [
            "/content/Pixel2MeshPlusPlus\n",
            "/usr/local/lib/python3.6/dist-packages/tensorflow/python/framework/dtypes.py:523: FutureWarning: Passing (type, 1) or '1type' as a synonym of type is deprecated; in a future version of numpy, it will be understood as (type, (1,)) / '(1,)type'.\n",
            "  _np_qint8 = np.dtype([(\"qint8\", np.int8, 1)])\n",
            "/usr/local/lib/python3.6/dist-packages/tensorflow/python/framework/dtypes.py:524: FutureWarning: Passing (type, 1) or '1type' as a synonym of type is deprecated; in a future version of numpy, it will be understood as (type, (1,)) / '(1,)type'.\n",
            "  _np_quint8 = np.dtype([(\"quint8\", np.uint8, 1)])\n",
            "/usr/local/lib/python3.6/dist-packages/tensorflow/python/framework/dtypes.py:525: FutureWarning: Passing (type, 1) or '1type' as a synonym of type is deprecated; in a future version of numpy, it will be understood as (type, (1,)) / '(1,)type'.\n",
            "  _np_qint16 = np.dtype([(\"qint16\", np.int16, 1)])\n",
            "/usr/local/lib/python3.6/dist-packages/tensorflow/python/framework/dtypes.py:526: FutureWarning: Passing (type, 1) or '1type' as a synonym of type is deprecated; in a future version of numpy, it will be understood as (type, (1,)) / '(1,)type'.\n",
            "  _np_quint16 = np.dtype([(\"quint16\", np.uint16, 1)])\n",
            "/usr/local/lib/python3.6/dist-packages/tensorflow/python/framework/dtypes.py:527: FutureWarning: Passing (type, 1) or '1type' as a synonym of type is deprecated; in a future version of numpy, it will be understood as (type, (1,)) / '(1,)type'.\n",
            "  _np_qint32 = np.dtype([(\"qint32\", np.int32, 1)])\n",
            "/usr/local/lib/python3.6/dist-packages/tensorflow/python/framework/dtypes.py:532: FutureWarning: Passing (type, 1) or '1type' as a synonym of type is deprecated; in a future version of numpy, it will be understood as (type, (1,)) / '(1,)type'.\n",
            "  np_resource = np.dtype([(\"resource\", np.ubyte, 1)])\n",
            "=> set config\n",
            "=> pre-porcessing\n",
            "=> build model\n",
            "WARNING:tensorflow:From /tensorflow-1.15.2/python3.6/tflearn/initializations.py:119: UniformUnitScaling.__init__ (from tensorflow.python.ops.init_ops) is deprecated and will be removed in a future version.\n",
            "Instructions for updating:\n",
            "Use tf.initializers.variance_scaling instead with distribution=uniform to get equivalent behavior.\n",
            "/usr/local/lib/python3.6/dist-packages/tensorflow/python/ops/gradients_impl.py:112: UserWarning: Converting sparse IndexedSlices to a dense Tensor of unknown shape. This may consume a large amount of memory.\n",
            "  \"Converting sparse IndexedSlices to a dense Tensor of unknown shape. \"\n",
            "=> load data\n",
            "=> initialize session\n",
            "2020-07-15 03:36:29.315840: I tensorflow/core/platform/cpu_feature_guard.cc:141] Your CPU supports instructions that this TensorFlow binary was not compiled to use: AVX2 FMA\n",
            "Model restored from file: results/coarse_mvp2m/models/meshnetmvp2m.ckpt-50, epoch 50\n",
            "Model restored from file: results/refine_p2mpp/models/meshnet.ckpt-10, epoch 10\n",
            "=> start test stage 1\n",
            "=> start test stage 2\n",
            "=> save to data/demo/predict.obj\n"
          ],
          "name": "stdout"
        }
      ]
    }
  ]
}